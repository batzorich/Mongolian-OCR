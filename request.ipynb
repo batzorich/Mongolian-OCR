{
 "cells": [
  {
   "cell_type": "code",
   "execution_count": 1,
   "id": "c41bcc93",
   "metadata": {},
   "outputs": [
    {
     "name": "stdout",
     "output_type": "stream",
     "text": [
      "Эрхэм Ерөнхийлөгч та\n",
      "өнгөрсөн зун Монголын түүх,\n",
      "соёпын дурсгапт газруудтай\n",
      "танилцах : Буурал түүхийн\n",
      "жимээр* нэртэй аялал хийх-\n",
      "дээ Архангай аймгийн Гол\n",
      "модонд Хүннүгийн язгууртны\n",
      "оршуулгын га3ар очоод бид-\n",
      "ний эртний өвөг дэадэс Хүн-\n",
      "нүгийн түүхийг бахдаж байсан\n",
      "нь тун саяхан санагдах юм.\n",
      "\n"
     ]
    }
   ],
   "source": [
    "import requests\n",
    "import cv2\n",
    "import base64\n",
    "\n",
    "IMAGE_PATH = \"test_imgs/img_003.jpg\"\n",
    "img = cv2.imread(IMAGE_PATH)\n",
    "_, buffer = cv2.imencode('.jpg', img)\n",
    "img_base64 = base64.b64encode(buffer).decode(\"utf-8\")\n",
    "\n",
    "json_payload = {\n",
    "    \"image_base64\": img_base64\n",
    "}\n",
    "\n",
    "response = requests.post(\"http://localhost:8000/extract-text\", json=json_payload)\n",
    "\n",
    "if response.status_code == 200:\n",
    "    print(response.json()['text'])\n",
    "else:\n",
    "    print(response.text)\n"
   ]
  }
 ],
 "metadata": {
  "kernelspec": {
   "display_name": ".venv",
   "language": "python",
   "name": "python3"
  },
  "language_info": {
   "codemirror_mode": {
    "name": "ipython",
    "version": 3
   },
   "file_extension": ".py",
   "mimetype": "text/x-python",
   "name": "python",
   "nbconvert_exporter": "python",
   "pygments_lexer": "ipython3",
   "version": "3.10.12"
  }
 },
 "nbformat": 4,
 "nbformat_minor": 5
}
