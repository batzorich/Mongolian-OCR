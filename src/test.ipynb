{
 "cells": [
  {
   "cell_type": "code",
   "execution_count": 17,
   "id": "cab73ad4",
   "metadata": {},
   "outputs": [],
   "source": [
    "from adjust_height_width_v2 import adjust_height_width\n",
    "from skew_correction import skew_correct\n",
    "import cv2\n",
    "\n",
    "IMG_PATH = \"/home/bat/Documents/code/services/mn_ocr/test_imgs/img_005.jpg\"\n",
    "img = cv2.imread(IMG_PATH)\n",
    "skew_corrected_img = skew_correct(img)\n",
    "resized_img, (median_h_lower, _, median_h_upper, mean_w, rescale_idx) = adjust_height_width(skew_corrected_img)"
   ]
  }
 ],
 "metadata": {
  "kernelspec": {
   "display_name": "Python 3",
   "language": "python",
   "name": "python3"
  },
  "language_info": {
   "codemirror_mode": {
    "name": "ipython",
    "version": 3
   },
   "file_extension": ".py",
   "mimetype": "text/x-python",
   "name": "python",
   "nbconvert_exporter": "python",
   "pygments_lexer": "ipython3",
   "version": "3.10.12"
  }
 },
 "nbformat": 4,
 "nbformat_minor": 5
}
